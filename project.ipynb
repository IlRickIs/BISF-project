{
 "cells": [
  {
   "cell_type": "markdown",
   "metadata": {},
   "source": [
    "titoli selezionati facenti parte di:\n",
    "- settore tecnologico:  1) NVIDIA data l'esplosione dell'intelligenza artificiale\n",
    "                        2) INTEL attualmente scontato ottima opportunità\n",
    "- settore della sanità: 1) Johnosn e Johnson\n",
    "                        2) PFIZER\n",
    "- settore finanziario:  1) JPMorgan Chase (JPM)\n",
    "                        2) Goldman Sachs (GS)"
   ]
  },
  {
   "cell_type": "code",
   "execution_count": null,
   "metadata": {},
   "outputs": [],
   "source": []
  }
 ],
 "metadata": {
  "language_info": {
   "name": "python"
  }
 },
 "nbformat": 4,
 "nbformat_minor": 2
}
